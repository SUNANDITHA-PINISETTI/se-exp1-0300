{
  "nbformat": 4,
  "nbformat_minor": 0,
  "metadata": {
    "colab": {
      "provenance": [],
      "authorship_tag": "ABX9TyP3FeEJJbgXRERLE3Vy+yX7",
      "include_colab_link": true
    },
    "kernelspec": {
      "name": "python3",
      "display_name": "Python 3"
    },
    "language_info": {
      "name": "python"
    }
  },
  "cells": [
    {
      "cell_type": "markdown",
      "metadata": {
        "id": "view-in-github",
        "colab_type": "text"
      },
      "source": [
        "<a href=\"https://colab.research.google.com/github/SUNANDITHA-PINISETTI/se-exp1-0300/blob/main/se_exp1_0300.ipynb\" target=\"_parent\"><img src=\"https://colab.research.google.com/assets/colab-badge.svg\" alt=\"Open In Colab\"/></a>"
      ]
    },
    {
      "cell_type": "markdown",
      "source": [
        "Implement weather modeling* using the quadratic solution in stages: hard-coding variables keyboard input, read from a file, for a single set of input, multiple sets of inputs.\n"
      ],
      "metadata": {
        "id": "cU3QP50m9R6l"
      }
    },
    {
      "cell_type": "code",
      "execution_count": 1,
      "metadata": {
        "colab": {
          "base_uri": "https://localhost:8080/"
        },
        "id": "EKT_F5yD898a",
        "outputId": "b2b75938-ff5c-4895-aca6-742f36256067"
      },
      "outputs": [
        {
          "output_type": "stream",
          "name": "stdout",
          "text": [
            "Choose an option:\n",
            "1. Hard-coded example\n",
            "2. Single input from keyboard\n",
            "3. Multiple inputs from a file\n",
            "Enter your choice (1/2/3): 1\n",
            "\n",
            "--- Hard-Coded Example ---\n",
            "For coefficients 1, -3, 2: Roots are 2.0 and 1.0\n"
          ]
        }
      ],
      "source": [
        "import math\n",
        "\n",
        "# Function to solve the quadratic equation\n",
        "def solve_quadratic(a, b, c):\n",
        "    discriminant = b**2 - 4 * a * c\n",
        "    if discriminant >= 0:\n",
        "        root1 = (-b + math.sqrt(discriminant)) / (2 * a)\n",
        "        root2 = (-b - math.sqrt(discriminant)) / (2 * a)\n",
        "        return root1, root2\n",
        "    else:\n",
        "        return None\n",
        "\n",
        "# Function for hard-coded example\n",
        "def hard_coded_example():\n",
        "    print(\"\\n--- Hard-Coded Example ---\")\n",
        "    a, b, c = 1, -3, 2  # Example coefficients\n",
        "    result = solve_quadratic(a, b, c)\n",
        "    if result:\n",
        "        print(f\"For coefficients {a}, {b}, {c}: Roots are {result[0]} and {result[1]}\")\n",
        "    else:\n",
        "        print(f\"For coefficients {a}, {b}, {c}: No real roots\")\n",
        "\n",
        "# Function for keyboard input\n",
        "def keyboard_input():\n",
        "    print(\"\\n--- Keyboard Input ---\")\n",
        "    try:\n",
        "        a = float(input(\"Enter coefficient a: \"))\n",
        "        b = float(input(\"Enter coefficient b: \"))\n",
        "        c = float(input(\"Enter coefficient c: \"))\n",
        "        result = solve_quadratic(a, b, c)\n",
        "        if result:\n",
        "            print(f\"For coefficients {a}, {b}, {c}: Roots are {result[0]} and {result[1]}\")\n",
        "        else:\n",
        "            print(f\"For coefficients {a}, {b}, {c}: No real roots\")\n",
        "    except ValueError:\n",
        "        print(\"Invalid input! Please enter numeric values.\")\n",
        "\n",
        "# Function to process inputs from a file\n",
        "def process_file(file_path):\n",
        "    print(\"\\n--- Reading from File ---\")\n",
        "    try:\n",
        "        with open(file_path, 'r') as file:\n",
        "            for line in file:\n",
        "                coefficients = list(map(float, line.strip().split()))\n",
        "                if len(coefficients) != 3:\n",
        "                    print(f\"Skipping invalid line: {line.strip()}\")\n",
        "                    continue\n",
        "                a, b, c = coefficients\n",
        "                result = solve_quadratic(a, b, c)\n",
        "                if result:\n",
        "                    print(f\"For coefficients {a}, {b}, {c}: Roots are {result[0]} and {result[1]}\")\n",
        "                else:\n",
        "                    print(f\"For coefficients {a}, {b}, {c}: No real roots\")\n",
        "    except FileNotFoundError:\n",
        "        print(\"File not found. Please check the file path.\")\n",
        "    except ValueError:\n",
        "        print(\"File contains invalid data. Ensure each line has three numeric values.\")\n",
        "\n",
        "# Main function to handle single and multiple input options\n",
        "def main():\n",
        "    print(\"Choose an option:\")\n",
        "    print(\"1. Hard-coded example\")\n",
        "    print(\"2. Single input from keyboard\")\n",
        "    print(\"3. Multiple inputs from a file\")\n",
        "    choice = input(\"Enter your choice (1/2/3): \")\n",
        "\n",
        "    if choice == '1':\n",
        "        hard_coded_example()\n",
        "    elif choice == '2':\n",
        "        keyboard_input()\n",
        "    elif choice == '3':\n",
        "        file_path = input(\"Enter file path: \")\n",
        "        process_file(file_path)\n",
        "    else:\n",
        "        print(\"Invalid choice. Please select 1, 2, or 3.\")\n",
        "\n",
        "# Run the main program\n",
        "if __name__ == \"__main__\":\n",
        "    main()\n",
        "\n"
      ]
    },
    {
      "cell_type": "code",
      "source": [
        "import math\n",
        "\n",
        "# Function to solve the quadratic equation\n",
        "def solve_quadratic(a, b, c):\n",
        "    discriminant = b**2 - 4 * a * c\n",
        "    if discriminant >= 0:\n",
        "        root1 = (-b + math.sqrt(discriminant)) / (2 * a)\n",
        "        root2 = (-b - math.sqrt(discriminant)) / (2 * a)\n",
        "        return root1, root2\n",
        "    else:\n",
        "        return None\n",
        "\n",
        "# Function for hard-coded example\n",
        "def hard_coded_example():\n",
        "    print(\"\\n--- Hard-Coded Example ---\")\n",
        "    a, b, c = 1, -3, 2  # Example coefficients\n",
        "    result = solve_quadratic(a, b, c)\n",
        "    if result:\n",
        "        print(f\"For coefficients {a}, {b}, {c}: Roots are {result[0]} and {result[1]}\")\n",
        "    else:\n",
        "        print(f\"For coefficients {a}, {b}, {c}: No real roots\")\n",
        "\n",
        "# Function for keyboard input\n",
        "def keyboard_input():\n",
        "    print(\"\\n--- Keyboard Input ---\")\n",
        "    try:\n",
        "        a = float(input(\"Enter coefficient a: \"))\n",
        "        b = float(input(\"Enter coefficient b: \"))\n",
        "        c = float(input(\"Enter coefficient c: \"))\n",
        "        result = solve_quadratic(a, b, c)\n",
        "        if result:\n",
        "            print(f\"For coefficients {a}, {b}, {c}: Roots are {result[0]} and {result[1]}\")\n",
        "        else:\n",
        "            print(f\"For coefficients {a}, {b}, {c}: No real roots\")\n",
        "    except ValueError:\n",
        "        print(\"Invalid input! Please enter numeric values.\")\n",
        "\n",
        "# Function to process inputs from a file\n",
        "def process_file(file_path):\n",
        "    print(\"\\n--- Reading from File ---\")\n",
        "    try:\n",
        "        with open(file_path, 'r') as file:\n",
        "            for line in file:\n",
        "                coefficients = list(map(float, line.strip().split()))\n",
        "                if len(coefficients) != 3:\n",
        "                    print(f\"Skipping invalid line: {line.strip()}\")\n",
        "                    continue\n",
        "                a, b, c = coefficients\n",
        "                result = solve_quadratic(a, b, c)\n",
        "                if result:\n",
        "                    print(f\"For coefficients {a}, {b}, {c}: Roots are {result[0]} and {result[1]}\")\n",
        "                else:\n",
        "                    print(f\"For coefficients {a}, {b}, {c}: No real roots\")\n",
        "    except FileNotFoundError:\n",
        "        print(\"File not found. Please check the file path.\")\n",
        "    except ValueError:\n",
        "        print(\"File contains invalid data. Ensure each line has three numeric values.\")\n",
        "\n",
        "# Main function to handle single and multiple input options\n",
        "def main():\n",
        "    print(\"Choose an option:\")\n",
        "    print(\"1. Hard-coded example\")\n",
        "    print(\"2. Single input from keyboard\")\n",
        "    print(\"3. Multiple inputs from a file\")\n",
        "    choice = input(\"Enter your choice (1/2/3): \")\n",
        "\n",
        "    if choice == '1':\n",
        "        hard_coded_example()\n",
        "    elif choice == '2':\n",
        "        keyboard_input()\n",
        "    elif choice == '3':\n",
        "        file_path = input(\"Enter file path: \")\n",
        "        process_file(file_path)\n",
        "    else:\n",
        "        print(\"Invalid choice. Please select 1, 2, or 3.\")\n",
        "\n",
        "# Run the main program\n",
        "if __name__ == \"__main__\":\n",
        "    main()\n",
        "\n"
      ],
      "metadata": {
        "colab": {
          "base_uri": "https://localhost:8080/"
        },
        "id": "ESKJLS-39Fjr",
        "outputId": "42e0474c-dfc3-4bb2-b630-1e46e90b6fd8"
      },
      "execution_count": 5,
      "outputs": [
        {
          "output_type": "stream",
          "name": "stdout",
          "text": [
            "Choose an option:\n",
            "1. Hard-coded example\n",
            "2. Single input from keyboard\n",
            "3. Multiple inputs from a file\n",
            "Enter your choice (1/2/3): 2\n",
            "\n",
            "--- Keyboard Input ---\n",
            "Enter coefficient a: 1\n",
            "Enter coefficient b: 2\n",
            "Enter coefficient c: 3\n",
            "For coefficients 1.0, 2.0, 3.0: No real roots\n"
          ]
        }
      ]
    }
  ]
}